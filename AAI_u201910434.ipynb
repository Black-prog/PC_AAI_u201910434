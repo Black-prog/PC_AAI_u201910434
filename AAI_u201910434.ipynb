{
  "nbformat": 4,
  "nbformat_minor": 0,
  "metadata": {
    "colab": {
      "provenance": [],
      "collapsed_sections": []
    },
    "kernelspec": {
      "name": "python3",
      "display_name": "Python 3"
    },
    "language_info": {
      "name": "python"
    }
  },
  "cells": [
    {
      "cell_type": "code",
      "source": [
        "import numpy as np\n",
        "import random\n",
        "import matplotlib.pyplot as plt"
      ],
      "metadata": {
        "id": "qvkdNdNkzjro"
      },
      "execution_count": 1,
      "outputs": []
    },
    {
      "cell_type": "code",
      "source": [
        "xpointsR = []\n",
        "ypointsR = []\n",
        "\n",
        "xpointsG = []\n",
        "ypointsG = []"
      ],
      "metadata": {
        "id": "FJpZ39J7tj_d"
      },
      "execution_count": 2,
      "outputs": []
    },
    {
      "cell_type": "code",
      "source": [
        "#@title demo1\n",
        "%%file demo1\n",
        "20\t15 \n",
        "2\t24\t3\t12\t9\t17\t4\t27\t0\t21\t6\t25\t8\t27\t7\t26\t1\t30\t5\t31\t11\t18\t14\t16\t13\t39\t10\t19\t12\t26\n",
        "6\t30\t3\t15\t12\t20\t11\t19\t1\t24\t13\t15\t10\t28\t2\t36\t5\t26\t7\t15\t0\t11\t8\t23\t14\t20\t9\t26\t4\t28\n",
        "6\t35\t0\t22\t13\t23\t7\t32\t2\t20\t3\t12\t12\t19\t10\t23\t9\t17\t1\t14\t5\t16\t11\t29\t8\t16\t4\t22\t14\t22\n",
        "9\t20\t6\t29\t1\t19\t7\t14\t12\t33\t4\t30\t0\t32\t5\t21\t11\t29\t10\t24\t14\t25\t2\t29\t3\t13\t8\t20\t13\t18\n",
        "11\t23\t13\t20\t1\t28\t6\t32\t7\t16\t5\t18\t8\t24\t9\t23\t3\t24\t10\t34\t2\t24\t0\t24\t14\t28\t12\t15\t4\t18\n",
        "8\t24\t11\t19\t14\t21\t1\t33\t7\t34\t6\t35\t5\t40\t10\t36\t3\t23\t2\t26\t4\t15\t9\t28\t13\t38\t12\t13\t0\t25\n",
        "13\t27\t3\t30\t6\t21\t8\t19\t12\t12\t4\t27\t2\t39\t9\t13\t14\t12\t5\t36\t10\t21\t11\t17\t1\t29\t0\t17\t7\t33\n",
        "5\t27\t4\t19\t6\t29\t9\t20\t3\t21\t10\t40\t8\t14\t14\t39\t13\t39\t2\t27\t1\t36\t12\t12\t11\t37\t7\t22\t0\t13\n",
        "13\t32\t11\t29\t8\t24\t3\t27\t5\t40\t4\t21\t9\t26\t0\t27\t14\t27\t6\t16\t2\t21\t10\t13\t7\t28\t12\t28\t1\t32\n",
        "12\t35\t1\t11\t5\t39\t14\t18\t7\t23\t0\t34\t3\t24\t13\t11\t8\t30\t11\t31\t4\t15\t10\t15\t2\t28\t9\t26\t6\t33\n",
        "10\t28\t5\t37\t12\t29\t1\t31\t7\t25\t8\t13\t14\t14\t4\t20\t3\t27\t9\t25\t13\t31\t11\t14\t6\t25\t2\t39\t0\t36\n",
        "0\t22\t11\t25\t5\t28\t13\t35\t4\t31\t8\t21\t9\t20\t14\t19\t2\t29\t7\t32\t10\t18\t1\t18\t3\t11\t12\t17\t6\t15\n",
        "12\t39\t5\t32\t2\t36\t8\t14\t3\t28\t13\t37\t0\t38\t6\t20\t7\t19\t11\t12\t14\t22\t1\t36\t4\t15\t9\t32\t10\t16\n",
        "8\t28\t1\t29\t14\t40\t12\t23\t4\t34\t5\t33\t6\t27\t10\t17\t0\t20\t7\t28\t11\t21\t2\t21\t13\t20\t9\t33\t3\t27\n",
        "9\t21\t14\t34\t3\t30\t12\t38\t0\t11\t11\t16\t2\t14\t5\t14\t1\t34\t8\t33\t4\t23\t13\t40\t10\t12\t6\t23\t7\t27\n",
        "9\t13\t14\t40\t7\t36\t4\t17\t0\t13\t5\t33\t8\t25\t13\t24\t10\t23\t3\t36\t2\t29\t1\t18\t11\t13\t6\t33\t12\t13\n",
        "3\t25\t5\t15\t2\t28\t12\t40\t7\t39\t1\t31\t8\t35\t6\t31\t11\t36\t4\t12\t10\t33\t14\t19\t9\t16\t13\t27\t0\t21\n",
        "12\t22\t10\t14\t0\t12\t2\t20\t5\t12\t1\t18\t11\t17\t8\t39\t14\t31\t3\t31\t7\t32\t9\t20\t13\t29\t4\t13\t6\t26\n",
        "5\t18\t10\t30\t7\t38\t14\t22\t13\t15\t11\t20\t9\t16\t3\t17\t1\t12\t2\t13\t12\t40\t6\t17\t8\t30\t4\t38\t0\t13\n",
        "9\t31\t8\t39\t12\t27\t1\t14\t5\t33\t3\t31\t11\t22\t13\t36\t0\t16\t7\t11\t14\t14\t4\t29\t6\t28\t2\t22\t10\t17\n"
      ],
      "metadata": {
        "colab": {
          "base_uri": "https://localhost:8080/"
        },
        "id": "iG4LSK35zC-l",
        "outputId": "47911769-93f3-46ee-d91f-3a34ebbc51a0",
        "cellView": "form"
      },
      "execution_count": 3,
      "outputs": [
        {
          "output_type": "stream",
          "name": "stdout",
          "text": [
            "Writing demo1\n"
          ]
        }
      ]
    },
    {
      "cell_type": "code",
      "source": [
        "#@title demo\n",
        "%%file demo\n",
        "4 5\n",
        "0 20 1 20 2 20 3 40 4 10\n",
        "1 20 0 10 3 30 2 50 4 20\n",
        "2 30 1 20 4 12 3 40 0 10\n",
        "4 50 3 30 2 15 0 20 1 15"
      ],
      "metadata": {
        "id": "iBUiZr8A-lCC",
        "colab": {
          "base_uri": "https://localhost:8080/"
        },
        "outputId": "b504ec56-93d4-4be4-96ff-69b6bb6e398d",
        "cellView": "form"
      },
      "execution_count": 4,
      "outputs": [
        {
          "output_type": "stream",
          "name": "stdout",
          "text": [
            "Writing demo\n"
          ]
        }
      ]
    },
    {
      "cell_type": "code",
      "source": [
        "class JSSP:\n",
        "\n",
        "  def __init__(self,files,repi):\n",
        "     self.files=files\n",
        "     self.rep=repi\n",
        "\n",
        "  def run(self, returnn):\n",
        "    with open(self.files) as f:\n",
        "      n, m = [int(x) for x in f.readline().split()]\n",
        "      jobs = np.zeros((n, m, 2), dtype=int)\n",
        "      i = 0\n",
        "      for line in f:\n",
        "          jobs[i] = np.array([int(x) for x in line.split()]).reshape(m, 2)\n",
        "          i += 1\n",
        "\n",
        "    mstart = np.zeros((max(n,m)), dtype=int)\n",
        "    jend = np.zeros((max(n,m)), dtype=int)\n",
        "    idxs = np.zeros((n), dtype=int)\n",
        "    makespan = 0\n",
        "    for e in self.rep:\n",
        "      i = idxs[e]\n",
        "      idxs[e] += 1\n",
        "      midx = jobs[e, i, 0]\n",
        "      time = jobs[e, i, 1]\n",
        "      mstart[midx] = max(mstart[midx], jend[e]) + time\n",
        "      jend[e] = mstart[midx]\n",
        "      if mstart[midx] > makespan:\n",
        "        makespan = mstart[midx]\n",
        "\n",
        "    mstart = np.zeros((m), dtype=int)\n",
        "    jend = np.zeros((m), dtype=int)\n",
        "    idxs = np.zeros((n), dtype=int)\n",
        "    schedule = np.zeros((m*10, makespan))\n",
        "\n",
        "    for e in self.rep:\n",
        "      i = idxs[e]\n",
        "      idxs[e] += 1\n",
        "      midx = jobs[e, i, 0]\n",
        "      time = jobs[e, i, 1]\n",
        "      mstart[midx] = max(mstart[midx], jend[i])\n",
        "      schedule[midx*10:(midx+1)*10, mstart[midx]:mstart[midx] + time] = e+1\n",
        "      mstart[midx] += time\n",
        "      jend[i] = mstart[midx]\n",
        "\n",
        "    if(returnn=='schedule'):\n",
        "      return schedule\n",
        "    \n",
        "    if(returnn=='jobs'):\n",
        "      print(jobs)\n",
        "    \n",
        "    if(returnn=='makespan'):\n",
        "      return makespan"
      ],
      "metadata": {
        "id": "r51StIC9zxEC"
      },
      "execution_count": 5,
      "outputs": []
    },
    {
      "cell_type": "code",
      "source": [
        "from os import kill\n",
        "class Genetic:\n",
        "\n",
        "  def __init__(self,num_data,num_fitnes,files,num_iter):\n",
        "    self.files=files\n",
        "    self.num_data=num_data\n",
        "    self.num_fitnes=num_fitnes\n",
        "    self.num_iter=num_iter\n",
        "    self.xpoints = []\n",
        "    self.ypoints = []\n",
        "\n",
        "  def generateMatrixAleatorio(self,size_array,n,m):\n",
        "    arr=[]\n",
        "    for k in range(size_array):\n",
        "      rep = []\n",
        "      for i in range(n):\n",
        "        rep.extend(np.full(m,i))\n",
        "      np.random.shuffle(rep)\n",
        "      arr.append(rep)\n",
        "    return arr\n",
        "\n",
        "  def generateArrayAll(self,n,m):\n",
        "    rep = []\n",
        "    for i in range(n):\n",
        "      rep.extend(np.full(m,i))\n",
        "      np.random.shuffle(rep)\n",
        "    return rep\n",
        "\n",
        "  def run(self):\n",
        "    with open(self.files) as f:\n",
        "      n, m = [int(x) for x in f.readline().split()]\n",
        "    arr=self.generateMatrixAleatorio(self.num_data,n,m)\n",
        "  \n",
        "    for i in range(self.num_iter):\n",
        "      weight=[]\n",
        "      weightxxx=[]\n",
        "      for j in range(self.num_data):\n",
        "        jssp= JSSP(self.files,arr[j])\n",
        "        aux = jssp.run('makespan')\n",
        "        self.schedule = jssp.run('schedule')\n",
        "        weight.append(aux)\n",
        "        weightxxx.append(aux)\n",
        "      \n",
        "      auxweight=weight\n",
        "      indexweight=[]\n",
        "      for j in range(self.num_fitnes):\n",
        "        indexweight.append(auxweight.index(min(auxweight)))\n",
        "        auxweight.insert(auxweight.index(min(auxweight)),2000)\n",
        "        auxweight.remove(min(auxweight))\n",
        "\n",
        "      auxsum=0\n",
        "      for j in range(len(indexweight)):\n",
        "        auxsum+=weightxxx[indexweight[j]]\n",
        "      self.xpoints.append(i)\n",
        "      self.ypoints.append(weightxxx[indexweight[0]])\n",
        "\n",
        "\n",
        "      arrNew=[]\n",
        "      counter=0\n",
        "      for k in range(self.num_data-1):\n",
        "        auxarr1=[]\n",
        "        perr=self.generateArrayAll(n,m)\n",
        "        size=random.randint(1,(n*m)-1)\n",
        "        for j in range(size):\n",
        "          auxarr1.append(arr[indexweight[counter]][j])\n",
        "        for j in range(size):\n",
        "          perr.remove(auxarr1[j])\n",
        "        arrNew.append(auxarr1+perr)\n",
        "        counter+=1\n",
        "        if(counter==6):\n",
        "          counter=0\n",
        "      arrNew.append(arr[indexweight[0]])\n",
        "      arr=arrNew\n",
        "    return (self.xpoints,self.ypoints)"
      ],
      "metadata": {
        "id": "ZkJ98OeOqOJ5"
      },
      "execution_count": 6,
      "outputs": []
    },
    {
      "cell_type": "code",
      "source": [
        "genetic = Genetic(25,6,\"demo1\",50)\n",
        "xpointsG, ypointsG = genetic.run()"
      ],
      "metadata": {
        "id": "VQIU6Ofc75-s"
      },
      "execution_count": 7,
      "outputs": []
    },
    {
      "cell_type": "code",
      "source": [
        "plt.figure(figsize = (16,5))\n",
        "plt.imshow(genetic.schedule, origin='lower', aspect='auto', interpolation='nearest', cmap='tab20c')"
      ],
      "metadata": {
        "colab": {
          "base_uri": "https://localhost:8080/",
          "height": 337
        },
        "id": "h2gw9D8TPheq",
        "outputId": "c572c072-9756-4af8-9cad-2ac866f9b81e"
      },
      "execution_count": 8,
      "outputs": [
        {
          "output_type": "execute_result",
          "data": {
            "text/plain": [
              "<matplotlib.image.AxesImage at 0x7f7cda6e82d0>"
            ]
          },
          "metadata": {},
          "execution_count": 8
        },
        {
          "output_type": "display_data",
          "data": {
            "text/plain": [
              "<Figure size 1152x360 with 1 Axes>"
            ],
            "image/png": "[encoded data removed]"
          },
          "metadata": {
            "needs_background": "light"
          }
        }
      ]
    },
    {
      "cell_type": "code",
      "source": [
        "class RandomSampling:\n",
        "  def __init__(self,num_data,num_fitnes,files,num_iter):\n",
        "    self.files=files\n",
        "    self.num_data=num_data\n",
        "    self.num_fitnes=num_fitnes\n",
        "    self.num_iter=num_iter\n",
        "    self.xpoints = []\n",
        "    self.ypoints = []\n",
        "\n",
        "\n",
        "  def generateMatrixAleatorio(self,size_array,n,m):\n",
        "    arr=[]\n",
        "    for k in range(size_array):\n",
        "      rep = []\n",
        "      for i in range(n):\n",
        "        rep.extend(np.full(m,i))\n",
        "      np.random.shuffle(rep)\n",
        "      arr.append(rep)\n",
        "    return arr\n",
        "\n",
        "  def run(self):\n",
        "    with open(self.files) as f:\n",
        "      n, m = [int(x) for x in f.readline().split()]\n",
        "\n",
        "    for k in range(self.num_iter):\n",
        "      arr=self.generateMatrixAleatorio(self.num_data,n,m)\n",
        "      weight=[]\n",
        "      weightxxx=[]\n",
        "      for j in range(self.num_data):\n",
        "        jssp= JSSP(self.files,arr[j])\n",
        "        aux = jssp.run('makespan')\n",
        "        self.schedule = jssp.run('schedule')\n",
        "        weight.append(aux)\n",
        "        weightxxx.append(aux)\n",
        "\n",
        "      auxweight=weight\n",
        "      indexweight=[]\n",
        "      for j in range(self.num_fitnes):\n",
        "        indexweight.append(auxweight.index(min(auxweight)))\n",
        "        auxweight.insert(auxweight.index(min(auxweight)),2000)\n",
        "        auxweight.remove(min(auxweight))\n",
        "\n",
        "      auxsum=0\n",
        "      for j in range(len(indexweight)):\n",
        "        auxsum+=weightxxx[indexweight[j]]\n",
        "      self.xpoints.append(k)\n",
        "      \n",
        "      if(len(self.ypoints) == 0):\n",
        "        self.ypoints.append(weightxxx[indexweight[0]])\n",
        "      elif(self.ypoints[-1]<weightxxx[indexweight[0]]):\n",
        "        self.ypoints.append(self.ypoints[-1])\n",
        "      else:\n",
        "        self.ypoints.append(weightxxx[indexweight[0]])\n",
        "    return (self.xpoints,self.ypoints)\n",
        "\n"
      ],
      "metadata": {
        "id": "1K2gUbemJtCR"
      },
      "execution_count": 27,
      "outputs": []
    },
    {
      "cell_type": "code",
      "source": [
        "rs=RandomSampling(25,6,\"demo1\",50)\n",
        "xpointsR, ypointsR= rs.run()"
      ],
      "metadata": {
        "id": "2JbpMqWHkhF_"
      },
      "execution_count": 29,
      "outputs": []
    },
    {
      "cell_type": "code",
      "source": [
        "plt.figure(figsize = (16,5))\n",
        "plt.imshow(rs.schedule)"
      ],
      "metadata": {
        "colab": {
          "base_uri": "https://localhost:8080/",
          "height": 167
        },
        "id": "KWTwOvQAek8k",
        "outputId": "7b8205b3-75f9-41ad-9450-d795d4a16680"
      },
      "execution_count": 30,
      "outputs": [
        {
          "output_type": "execute_result",
          "data": {
            "text/plain": [
              "<matplotlib.image.AxesImage at 0x7f7cd930df90>"
            ]
          },
          "metadata": {},
          "execution_count": 30
        },
        {
          "output_type": "display_data",
          "data": {
            "text/plain": [
              "<Figure size 1152x360 with 1 Axes>"
            ],
            "image/png": "[encoded data removed]"
          },
          "metadata": {
            "needs_background": "light"
          }
        }
      ]
    },
    {
      "cell_type": "code",
      "source": [
        "#@title Conclusión"
      ],
      "metadata": {
        "cellView": "form",
        "id": "lWuV_Z7CiIlV"
      },
      "execution_count": null,
      "outputs": []
    },
    {
      "cell_type": "markdown",
      "source": [
        "En conclusion se puede ver que mediante los algoritmos utilizados se devolvieron una lista de k elementos extraídos sin repetición de la secuencia"
      ],
      "metadata": {
        "id": "9dIyA4uGhwLH"
      }
    }
  ]
}